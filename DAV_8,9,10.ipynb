{
  "nbformat": 4,
  "nbformat_minor": 0,
  "metadata": {
    "colab": {
      "provenance": [],
      "authorship_tag": "ABX9TyNID3pbo1yMRJZsxFEfsVwd",
      "include_colab_link": true
    },
    "kernelspec": {
      "name": "python3",
      "display_name": "Python 3"
    },
    "language_info": {
      "name": "python"
    }
  },
  "cells": [
    {
      "cell_type": "markdown",
      "metadata": {
        "id": "view-in-github",
        "colab_type": "text"
      },
      "source": [
        "<a href=\"https://colab.research.google.com/github/krishjagwani/DAV_72/blob/main/DAV_8%2C9%2C10.ipynb\" target=\"_parent\"><img src=\"https://colab.research.google.com/assets/colab-badge.svg\" alt=\"Open In Colab\"/></a>"
      ]
    },
    {
      "cell_type": "markdown",
      "source": [
        "# **D3.js**"
      ],
      "metadata": {
        "id": "uNERmvXVQGeX"
      }
    },
    {
      "cell_type": "code",
      "source": [
        "%%html\n",
        "<!DOCTYPE html>\n",
        "<html lang = \"en\">\n",
        "   <head>\n",
        "      <title>My Document</title>\n",
        "   </head>\n",
        "\n",
        "   <body>\n",
        "      <div>\n",
        "         <h1>Greeting</h1>\n",
        "         <p>Hello World!</p>\n",
        "      </div>\n",
        "   </body>\n",
        "</html>"
      ],
      "metadata": {
        "colab": {
          "base_uri": "https://localhost:8080/",
          "height": 100
        },
        "id": "THyGThIdQJwY",
        "outputId": "dd38277d-206a-4718-9ca8-51676e851c88"
      },
      "execution_count": null,
      "outputs": [
        {
          "output_type": "display_data",
          "data": {
            "text/plain": [
              "<IPython.core.display.HTML object>"
            ],
            "text/html": [
              "<!DOCTYPE html>\n",
              "<html lang = \"en\">\n",
              "   <head>\n",
              "      <title>My Document</title>\n",
              "   </head>\n",
              "\n",
              "   <body>\n",
              "      <div>\n",
              "         <h1>Greeting</h1>\n",
              "         <p>Hello World!</p>\n",
              "      </div>\n",
              "   </body>\n",
              "</html>\n"
            ]
          },
          "metadata": {}
        }
      ]
    },
    {
      "cell_type": "markdown",
      "source": [
        "Understood the basic overall structure of this HTML document with a heading \"Greeting\" and a paragraph containing the text \"Hello World!\""
      ],
      "metadata": {
        "id": "-pGpvmtyQkYY"
      }
    },
    {
      "cell_type": "markdown",
      "source": [
        "# **Scalable Vector Graphics (SVG)**"
      ],
      "metadata": {
        "id": "UUL4-smFZKXy"
      }
    },
    {
      "cell_type": "code",
      "source": [
        "%%html\n",
        "<!DOCTYPE html>\n",
        "<html lang=\"en\">\n",
        "<head>\n",
        "    <meta charset=\"UTF-8\">\n",
        "    <meta name=\"viewport\" content=\"width=device-width, initial-scale=1.0\">\n",
        "    <title>SVG Circle Example</title>\n",
        "</head>\n",
        "<body>\n",
        "\n",
        "<svg width=\"300\" height=\"200\">\n",
        "   <circle cx=\"150\" cy=\"100\" r=\"90\" fill=\"lightgreen\"></circle>\n",
        "</svg>\n",
        "\n",
        "</body>\n",
        "</html>"
      ],
      "metadata": {
        "colab": {
          "base_uri": "https://localhost:8080/",
          "height": 221
        },
        "id": "ZhqIdHaVRxHB",
        "outputId": "d12d5da4-e144-4038-a84e-b0be457e24cc"
      },
      "execution_count": null,
      "outputs": [
        {
          "output_type": "display_data",
          "data": {
            "text/plain": [
              "<IPython.core.display.HTML object>"
            ],
            "text/html": [
              "<!DOCTYPE html>\n",
              "<html lang=\"en\">\n",
              "<head>\n",
              "    <meta charset=\"UTF-8\">\n",
              "    <meta name=\"viewport\" content=\"width=device-width, initial-scale=1.0\">\n",
              "    <title>SVG Circle Example</title>\n",
              "</head>\n",
              "<body>\n",
              "\n",
              "<svg width=\"300\" height=\"200\">\n",
              "   <circle cx=\"150\" cy=\"100\" r=\"90\" fill=\"lightgreen\"></circle>\n",
              "</svg>\n",
              "\n",
              "</body>\n",
              "</html>\n"
            ]
          },
          "metadata": {}
        }
      ]
    },
    {
      "cell_type": "markdown",
      "source": [
        "\n",
        "SVG is a way to render images on the webpage. SVG is not a direct image, but is just a way to create images using text\n",
        "\n",
        "We can draw other shapes in SVG such as − Line, rectangle, Ellipse, Text and Path.\n",
        "\n",
        "we can set the color of the Circle by adding an attribute “fill” and specify the value as lightgreen as shown above"
      ],
      "metadata": {
        "id": "Uf-pex2eUD0o"
      }
    },
    {
      "cell_type": "markdown",
      "source": [
        "# **D3.js - Selections**\n"
      ],
      "metadata": {
        "id": "WgirxkVDYjF6"
      }
    },
    {
      "cell_type": "code",
      "source": [
        "%%html\n",
        "<!DOCTYPE html>\n",
        "<html>\n",
        "   <head>\n",
        "      <script type = \"text/javascript\" src = \"https://d3js.org/d3.v4.min.js\"></script>\n",
        "   </head>\n",
        "\n",
        "   <body>\n",
        "      <div class = \"myclass\">\n",
        "          Hello\n",
        "      </div>\n",
        "\n",
        "      <script>\n",
        "         d3.select(\".myclass\").append(\"p\").text(\"Hello from D3.js\").style(\"color\", \"Cyan\");\n",
        "      </script>\n",
        "   </body>\n",
        "</html>"
      ],
      "metadata": {
        "colab": {
          "base_uri": "https://localhost:8080/",
          "height": 64
        },
        "id": "-G9OlimWWNwa",
        "outputId": "c96f4194-65e8-4b0a-cfb8-8c500b57a18c"
      },
      "execution_count": null,
      "outputs": [
        {
          "output_type": "display_data",
          "data": {
            "text/plain": [
              "<IPython.core.display.HTML object>"
            ],
            "text/html": [
              "<!DOCTYPE html>\n",
              "<html>\n",
              "   <head>\n",
              "      <script type = \"text/javascript\" src = \"https://d3js.org/d3.v4.min.js\"></script>\n",
              "   </head>\n",
              "\n",
              "   <body>\n",
              "      <div class = \"myclass\">\n",
              "          Hello\n",
              "      </div>\n",
              "      \n",
              "      <script>\n",
              "         d3.select(\".myclass\").append(\"p\").text(\"Hello from D3.js\").style(\"color\", \"Cyan\");\n",
              "      </script>\n",
              "   </body>\n",
              "</html>\n"
            ]
          },
          "metadata": {}
        }
      ]
    },
    {
      "cell_type": "markdown",
      "source": [
        "This HTML document uses D3.js to select a div element with the class\n",
        "\"myclass\" and appends a paragraph within it, setting the text to \"Hello from D3.js\" and the text color to cyan."
      ],
      "metadata": {
        "id": "UtY4Cyd1Yvtg"
      }
    },
    {
      "cell_type": "markdown",
      "source": [
        "# D3.js - Data **Join**"
      ],
      "metadata": {
        "id": "k_XN6u6-bSLB"
      }
    },
    {
      "cell_type": "code",
      "source": [
        "%%html\n",
        "\n",
        "<!DOCTYPE html>\n",
        "<html>\n",
        "   <head>\n",
        "      <script type=\"text/javascript\" src=\"https://d3js.org/d3.v4.min.js\"></script>\n",
        "   </head>\n",
        "\n",
        "   <body>\n",
        "      <ul id=\"list\">\n",
        "         <li></li>\n",
        "         <li></li>\n",
        "      </ul>\n",
        "\n",
        "      <script>\n",
        "         // Data binding\n",
        "         d3.select(\"#list\").selectAll(\"li\")\n",
        "          .data([10, 20, 30, 25, 15])\n",
        "          .text(function(d) { return \"li - \" + d; })\n",
        "          .enter()\n",
        "          .append(\"li\")\n",
        "          .text(function(d)\n",
        "              { return \"Dynamically created element li - \" + d; });\n",
        "      </script>\n",
        "   </body>\n",
        "</html>\n"
      ],
      "metadata": {
        "colab": {
          "base_uri": "https://localhost:8080/",
          "height": 116
        },
        "id": "nSzf0OP4bXxC",
        "outputId": "9745f779-06b7-4476-dfc2-41f7e8f53c3f"
      },
      "execution_count": null,
      "outputs": [
        {
          "output_type": "display_data",
          "data": {
            "text/plain": [
              "<IPython.core.display.HTML object>"
            ],
            "text/html": [
              "\n",
              "<!DOCTYPE html>\n",
              "<html>\n",
              "   <head>\n",
              "      <script type=\"text/javascript\" src=\"https://d3js.org/d3.v4.min.js\"></script>\n",
              "   </head>\n",
              "\n",
              "   <body>\n",
              "      <ul id=\"list\">\n",
              "         <li></li>\n",
              "         <li></li>\n",
              "      </ul>\n",
              "\n",
              "      <script>\n",
              "         // Data binding\n",
              "         d3.select(\"#list\").selectAll(\"li\")\n",
              "          .data([10, 20, 30, 25, 15])\n",
              "          .text(function(d) { return \"li - \" + d; })\n",
              "          .enter()\n",
              "          .append(\"li\")\n",
              "          .text(function(d) \n",
              "              { return \"Dynamically created element li - \" + d; });\n",
              "      </script>\n",
              "   </body>\n",
              "</html>\n"
            ]
          },
          "metadata": {}
        }
      ]
    },
    {
      "cell_type": "markdown",
      "source": [
        "set text content based on the data, and dynamically append additional list items with updated text."
      ],
      "metadata": {
        "id": "1e0YrZmddfID"
      }
    },
    {
      "cell_type": "markdown",
      "source": [
        "## D3.js - **Transition**"
      ],
      "metadata": {
        "id": "vZSrSJe0eMDp"
      }
    },
    {
      "cell_type": "code",
      "source": [
        "%%html\n",
        "<!DOCTYPE html>\n",
        "<html>\n",
        "   <head>\n",
        "      <script type = \"text/javascript\" src = \"https://d3js.org/d3.v4.min.js\"></script>\n",
        "   </head>\n",
        "\n",
        "   <body>\n",
        "      <h3>Simple transitions</h3>\n",
        "      <script>\n",
        "        var t = d3.transition().duration(2000);\n",
        "        d3.select(\"body\")\n",
        "          .transition(t)\n",
        "          .style(\"background-color\", \"lightblue\");\n",
        "      </script>\n",
        "   </body>\n",
        "</html>"
      ],
      "metadata": {
        "colab": {
          "base_uri": "https://localhost:8080/",
          "height": 58
        },
        "id": "XEbwrVmEeNiy",
        "outputId": "6403cc18-ef03-4b83-b3c1-7beed7254131"
      },
      "execution_count": null,
      "outputs": [
        {
          "output_type": "display_data",
          "data": {
            "text/plain": [
              "<IPython.core.display.HTML object>"
            ],
            "text/html": [
              "<!DOCTYPE html>\n",
              "<html>\n",
              "   <head>\n",
              "      <script type = \"text/javascript\" src = \"https://d3js.org/d3.v4.min.js\"></script>\n",
              "   </head>\n",
              "\n",
              "   <body>\n",
              "      <h3>Simple transitions</h3>\n",
              "      <script>\n",
              "        var t = d3.transition().duration(2000);\n",
              "        d3.select(\"body\")\n",
              "          .transition(t)\n",
              "          .style(\"background-color\", \"lightblue\");\n",
              "      </script>\n",
              "   </body>\n",
              "</html>\n"
            ]
          },
          "metadata": {}
        }
      ]
    },
    {
      "cell_type": "markdown",
      "source": [
        "create a simple transition that smoothly changing the background color of the body to light blue over a duration of 2000 milliseconds."
      ],
      "metadata": {
        "id": "yR4ZZZTOgOly"
      }
    },
    {
      "cell_type": "markdown",
      "source": [
        "## **D3.js - Animation**"
      ],
      "metadata": {
        "id": "YfGjl4npgYlV"
      }
    },
    {
      "cell_type": "code",
      "source": [
        "%%html\n",
        "<!DOCTYPE html>\n",
        "<html lang=\"en\">\n",
        "<head>\n",
        "  <meta charset=\"UTF-8\">\n",
        "  <meta name=\"viewport\" content=\"width=device-width, initial-scale=1.0\">\n",
        "  <script type=\"text/javascript\" src=\"https://d3js.org/d3.v4.min.js\"></script>\n",
        "  <style>\n",
        "    circle {\n",
        "      fill: orange;\n",
        "    }\n",
        "  </style>\n",
        "</head>\n",
        "<body>\n",
        "\n",
        "<svg width=\"400\" height=\"200\">\n",
        "  <circle cx=\"50\" cy=\"100\" r=\"20\"></circle>\n",
        "</svg>\n",
        "\n",
        "<script>\n",
        "  // Select the circle element\n",
        "  var circle = d3.select(\"circle\");\n",
        "\n",
        "  // Apply animation to move the circle to a new x-coordinate\n",
        "  circle.transition()\n",
        "    .duration(2000)  // Animation duration in milliseconds\n",
        "    .attr(\"cx\", 250);  // New x-coordinate\n",
        "\n",
        "  // Apply animation to change the circle's color\n",
        "  circle.transition()\n",
        "    .delay(2000)  // Delay before starting the second animation\n",
        "    .duration(1000)  // Animation duration in milliseconds\n",
        "    .style(\"fill\", \"purple\");  // New fill color\n",
        "</script>\n",
        "</body>\n",
        "</html>\n"
      ],
      "metadata": {
        "colab": {
          "base_uri": "https://localhost:8080/",
          "height": 222
        },
        "id": "24GJ9FWlgbqt",
        "outputId": "ed4a5d46-d0b3-433b-d214-a25c84d31832"
      },
      "execution_count": null,
      "outputs": [
        {
          "output_type": "display_data",
          "data": {
            "text/plain": [
              "<IPython.core.display.HTML object>"
            ],
            "text/html": [
              "<!DOCTYPE html>\n",
              "<html lang=\"en\">\n",
              "<head>\n",
              "  <meta charset=\"UTF-8\">\n",
              "  <meta name=\"viewport\" content=\"width=device-width, initial-scale=1.0\">\n",
              "  <script type=\"text/javascript\" src=\"https://d3js.org/d3.v4.min.js\"></script>\n",
              "  <style>\n",
              "    circle {\n",
              "      fill: orange;\n",
              "    }\n",
              "  </style>\n",
              "</head>\n",
              "<body>\n",
              "\n",
              "<svg width=\"400\" height=\"200\">\n",
              "  <circle cx=\"50\" cy=\"100\" r=\"20\"></circle>\n",
              "</svg>\n",
              "\n",
              "<script>\n",
              "  // Select the circle element\n",
              "  var circle = d3.select(\"circle\");\n",
              "\n",
              "  // Apply animation to move the circle to a new x-coordinate\n",
              "  circle.transition()\n",
              "    .duration(2000)  // Animation duration in milliseconds\n",
              "    .attr(\"cx\", 250);  // New x-coordinate\n",
              "\n",
              "  // Apply animation to change the circle's color\n",
              "  circle.transition()\n",
              "    .delay(2000)  // Delay before starting the second animation\n",
              "    .duration(1000)  // Animation duration in milliseconds\n",
              "    .style(\"fill\", \"purple\");  // New fill color\n",
              "</script>\n",
              "</body>\n",
              "</html>\n"
            ]
          },
          "metadata": {}
        }
      ]
    },
    {
      "cell_type": "markdown",
      "source": [
        "transitions are used to smoothly animate the movement of the circle to a new x-coordinate (250) and change its fill color from orange to purple."
      ],
      "metadata": {
        "id": "UtvwqWIqhM5Z"
      }
    },
    {
      "cell_type": "code",
      "source": [
        "#Animation by Delay\n",
        "%%html\n",
        "<!DOCTYPE html>\n",
        "<html>\n",
        "   <head>\n",
        "      <script type = \"text/javascript\" src = \"https://d3js.org/d3.v4.min.js\"></script>\n",
        "   </head>\n",
        "\n",
        "   <body>\n",
        "      <h3> Simple transitions </h3>\n",
        "      <script>\n",
        "         d3.selectAll(\"h3\").transition()\n",
        "            .style(\"font-size\",\"100px\").delay(2000).duration(2000);\n",
        "      </script>\n",
        "   </body>\n",
        "</html>"
      ],
      "metadata": {
        "colab": {
          "base_uri": "https://localhost:8080/",
          "height": 245
        },
        "id": "xCitHPVZENSe",
        "outputId": "e5d1da26-fd99-4b4f-e709-5e68f2e489a3"
      },
      "execution_count": 1,
      "outputs": [
        {
          "output_type": "display_data",
          "data": {
            "text/plain": [
              "<IPython.core.display.HTML object>"
            ],
            "text/html": [
              "<!DOCTYPE html>\n",
              "<html>\n",
              "   <head>\n",
              "      <script type = \"text/javascript\" src = \"https://d3js.org/d3.v4.min.js\"></script>\n",
              "   </head>\n",
              "\n",
              "   <body>\n",
              "      <h3> Simple transitions </h3>\n",
              "      <script>\n",
              "         d3.selectAll(\"h3\").transition()\n",
              "            .style(\"font-size\",\"100px\").delay(2000).duration(2000);\n",
              "      </script>\n",
              "   </body>\n",
              "</html>\n"
            ]
          },
          "metadata": {}
        }
      ]
    },
    {
      "cell_type": "code",
      "source": [
        "%%html\n",
        "<!DOCTYPE html>\n",
        "<html lang=\"en\">\n",
        "<head>\n",
        "  <meta charset=\"UTF-8\">\n",
        "  <meta name=\"viewport\" content=\"width=device-width, initial-scale=1.0\">\n",
        "  <title>World Map</title>\n",
        "  <script src=\"https://d3js.org/d3.v7.min.js\"></script>\n",
        "  <script src=\"https://d3js.org/topojson.v3.min.js\"></script>\n",
        "  <style>\n",
        "    svg {\n",
        "      width: 100%;\n",
        "      height: auto;\n",
        "      display: block;\n",
        "    }\n",
        "  </style>\n",
        "</head>\n",
        "<body>\n",
        "  <svg id=\"world-map\"></svg>\n",
        "  <script>\n",
        "    const svg = d3.select(\"#world-map\");\n",
        "    // Define the projection\n",
        "    const projection = d3.geoNaturalEarth1();\n",
        "    // Define path generator\n",
        "    const path = d3.geoPath().projection(projection);\n",
        "    // Load world map data\n",
        "    d3.json(\"https://raw.githubusercontent.com/d3/d3.github.com/master/world-110m.v1.json\").then(function(world) {\n",
        "      // Get the bounding box of the map\n",
        "      const bounds = path.bounds(topojson.feature(world, world.objects.countries));\n",
        "      // Set the viewBox attribute based on the bounds\n",
        "      svg.attr(\"viewBox\", [bounds[0][0], bounds[0][1], bounds[1][0] - bounds[0][0], bounds[1][1] - bounds[0][1]]);\n",
        "      // Render the map\n",
        "      svg.selectAll(\"path\")\n",
        "        .data(topojson.feature(world, world.objects.countries).features)\n",
        "        .enter().append(\"path\")\n",
        "        .attr(\"d\", path)\n",
        "        .attr(\"fill\", \"lightgray\")\n",
        "        .attr(\"stroke\", \"white\")\n",
        "        .attr(\"stroke-width\", 0.5);\n",
        "    });\n",
        "  </script>\n",
        "</body>\n",
        "</html>"
      ],
      "metadata": {
        "colab": {
          "base_uri": "https://localhost:8080/",
          "height": 749
        },
        "id": "a9pS4BVDEN-Z",
        "outputId": "2b08d885-feaf-432a-b4a9-c33775836dab"
      },
      "execution_count": 2,
      "outputs": [
        {
          "output_type": "display_data",
          "data": {
            "text/plain": [
              "<IPython.core.display.HTML object>"
            ],
            "text/html": [
              "<!DOCTYPE html>\n",
              "<html lang=\"en\">\n",
              "<head>\n",
              "  <meta charset=\"UTF-8\">\n",
              "  <meta name=\"viewport\" content=\"width=device-width, initial-scale=1.0\">\n",
              "  <title>World Map</title>\n",
              "  <script src=\"https://d3js.org/d3.v7.min.js\"></script>\n",
              "  <script src=\"https://d3js.org/topojson.v3.min.js\"></script>\n",
              "  <style>\n",
              "    svg {\n",
              "      width: 100%;\n",
              "      height: auto;\n",
              "      display: block;\n",
              "    }\n",
              "  </style>\n",
              "</head>\n",
              "<body>\n",
              "  <svg id=\"world-map\"></svg>\n",
              "  <script>\n",
              "    const svg = d3.select(\"#world-map\");\n",
              "    // Define the projection\n",
              "    const projection = d3.geoNaturalEarth1();\n",
              "    // Define path generator\n",
              "    const path = d3.geoPath().projection(projection);\n",
              "    // Load world map data\n",
              "    d3.json(\"https://raw.githubusercontent.com/d3/d3.github.com/master/world-110m.v1.json\").then(function(world) {\n",
              "      // Get the bounding box of the map\n",
              "      const bounds = path.bounds(topojson.feature(world, world.objects.countries));\n",
              "      // Set the viewBox attribute based on the bounds\n",
              "      svg.attr(\"viewBox\", [bounds[0][0], bounds[0][1], bounds[1][0] - bounds[0][0], bounds[1][1] - bounds[0][1]]);\n",
              "      // Render the map\n",
              "      svg.selectAll(\"path\")\n",
              "        .data(topojson.feature(world, world.objects.countries).features)\n",
              "        .enter().append(\"path\")\n",
              "        .attr(\"d\", path)\n",
              "        .attr(\"fill\", \"lightgray\")\n",
              "        .attr(\"stroke\", \"white\")\n",
              "        .attr(\"stroke-width\", 0.5);\n",
              "    });\n",
              "  </script>\n",
              "</body>\n",
              "</html>\n"
            ]
          },
          "metadata": {}
        }
      ]
    },
    {
      "cell_type": "code",
      "source": [
        "%%html\n",
        "<!--Event Handling-->\n",
        "<!doctype html>\n",
        "<html>\n",
        "<head>\n",
        "    <style>\n",
        "        div {\n",
        "            height: 100px;\n",
        "            width: 100px;\n",
        "            background-color: steelblue;\n",
        "            margin:5px;\n",
        "        }\n",
        "    </style>\n",
        "    <script src=\"https://d3js.org/d3.v4.min.js\"></script>\n",
        "</head>\n",
        "<body>\n",
        "<div> </div>\n",
        "<script>\n",
        "    d3.selectAll(\"div\")\n",
        "      .on(\"mouseover\", function(){\n",
        "          d3.select(this)\n",
        "            .style(\"background-color\", \"orange\");\n",
        "\n",
        "          // Get current event info\n",
        "          console.log(d3.event);\n",
        "\n",
        "          // Get x & y co-ordinates\n",
        "          console.log(d3.mouse(this));\n",
        "      })\n",
        "      .on(\"mouseout\", function(){\n",
        "          d3.select(this)\n",
        "            .style(\"background-color\", \"steelblue\")\n",
        "      });\n",
        "</script>\n",
        "</body>\n",
        "</html>"
      ],
      "metadata": {
        "colab": {
          "base_uri": "https://localhost:8080/",
          "height": 127
        },
        "id": "vze-FF0eEdxE",
        "outputId": "e567c36e-e266-467f-e3d7-2e65bde61aaa"
      },
      "execution_count": 3,
      "outputs": [
        {
          "output_type": "display_data",
          "data": {
            "text/plain": [
              "<IPython.core.display.HTML object>"
            ],
            "text/html": [
              "<!--Event Handling-->\n",
              "<!doctype html>\n",
              "<html>\n",
              "<head>\n",
              "    <style>\n",
              "        div {\n",
              "            height: 100px;\n",
              "            width: 100px;\n",
              "            background-color: steelblue;\n",
              "            margin:5px;\n",
              "        }\n",
              "    </style>\n",
              "    <script src=\"https://d3js.org/d3.v4.min.js\"></script>\n",
              "</head>\n",
              "<body>\n",
              "<div> </div>\n",
              "<script>\n",
              "    d3.selectAll(\"div\")\n",
              "      .on(\"mouseover\", function(){\n",
              "          d3.select(this)\n",
              "            .style(\"background-color\", \"orange\");\n",
              "\n",
              "          // Get current event info\n",
              "          console.log(d3.event);\n",
              "\n",
              "          // Get x & y co-ordinates\n",
              "          console.log(d3.mouse(this));\n",
              "      })\n",
              "      .on(\"mouseout\", function(){\n",
              "          d3.select(this)\n",
              "            .style(\"background-color\", \"steelblue\")\n",
              "      });\n",
              "</script>\n",
              "</body>\n",
              "</html>\n"
            ]
          },
          "metadata": {}
        }
      ]
    },
    {
      "cell_type": "code",
      "source": [],
      "metadata": {
        "id": "xB-HvIWZEgyO"
      },
      "execution_count": null,
      "outputs": []
    }
  ]
}